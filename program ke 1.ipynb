{
  "cells": [
    {
      "cell_type": "markdown",
      "metadata": {
        "id": "Na70ciNPpal-"
      },
      "source": []
    },
    {
      "cell_type": "markdown",
      "metadata": {
        "id": "-rcMR8lSpcOO"
      },
      "source": [
        "Nama yunus sawaludin\n",
        "nim 2106036\n"
      ]
    },
    {
      "cell_type": "code",
      "execution_count": 89,
      "metadata": {
        "colab": {
          "base_uri": "https://localhost:8080/"
        },
        "id": "ORPvfoAbphol",
        "outputId": "5422cf12-d621-4a3b-e91c-d24f366ecb25"
      },
      "outputs": [
        {
          "output_type": "stream",
          "name": "stdout",
          "text": [
            "Minimum cost from 0 to 6 is =  3\n"
          ]
        }
      ],
      "source": [
        "# returns the minimum cost in a vector( if there are multiple goal states)\n",
        "def uniform_cost_search(goal, start):\n",
        "\n",
        "  # minimum cost upto\n",
        "  # goal state from starting\n",
        "  global graph,cost\n",
        "  answer = []\n",
        "  # create a priority queue\n",
        "  queue = []\n",
        "\n",
        "  # set the answer vector to max value|\n",
        "  for i in range(len(goal)):\n",
        "    answer.append(10**8)\n",
        "\n",
        "  # insert the starting index\n",
        "  queue.append([0, start])\n",
        "  # map to store visited node\n",
        "  visited = {}\n",
        "  # count\n",
        "  count = 0\n",
        "\n",
        "  # while the queue is not empty\n",
        "  while (len(queue) > 0):\n",
        "\n",
        "    # get the top element of the\n",
        "    queue = sorted(queue)\n",
        "    p = queue[-1]\n",
        "    # pop the element\n",
        "    del queue[-1]\n",
        "\n",
        "    # get the original value\n",
        "    p[0] *= -1\n",
        "\n",
        "    # check if the element is part of\n",
        "    # the goal list\n",
        "    if (p[1] in goal):\n",
        "\n",
        "      # get the position\n",
        "      index = goal.index(p[1])\n",
        "\n",
        "      # if a new goal is reached\n",
        "      if (answer[index] == 10**8):\n",
        "        count += 1\n",
        "\n",
        "      # if the cost is less\n",
        "      if (answer[index] > p[0]):\n",
        "        answer[index] = p[0]\n",
        "\n",
        "      # pop the element\n",
        "      del queue[-1]\n",
        "\n",
        "      queue = sorted(queue)\n",
        "      if (count == len(goal)):\n",
        "        return answer\n",
        "\n",
        "    # check for the non visited nodes\n",
        "    # which are adjacent to present node\n",
        "    if (p[1] not in visited):\n",
        "      for i in range(len(graph[p[1]])):\n",
        "\n",
        "        # value is multiplied by -1 so that\n",
        "        # least priority is at the top\n",
        "        queue.append( [(p[0] + cost[(p[1], graph[p[1]][i])])* -1, graph[p[1]][i]])\n",
        "  # mark as visited\n",
        "  visited[p[1]] = 1\n",
        "\n",
        "  return answer\n",
        "\n",
        "# main function\n",
        "if __name__ == '__main__':\n",
        "# create the graph\n",
        " graph, cost = [[] for i in range(8)],{}\n",
        "\n",
        "  # add edge\n",
        "graph[0].append(1)\n",
        "graph[0].append(3)\n",
        "graph[3].append(1)\n",
        "graph[3].append(6)\n",
        "graph[3].append(4)\n",
        "graph[1].append(6)\n",
        "graph[4].append(2)\n",
        "graph[4].append(5)\n",
        "graph[2].append(1)\n",
        "graph[5].append(2)\n",
        "graph[5].append(6)\n",
        "graph[6].append(4)\n",
        "# add the cost\n",
        "cost[(0, 1)] = 2\n",
        "cost[(0, 3)] = 5\n",
        "cost[(1, 6)] = 1\n",
        "cost[(3, 1)] = 5\n",
        "cost[(3, 6)] = 6\n",
        "cost[(3, 4)] = 2\n",
        "cost[(2, 1)] = 4\n",
        "cost[(4, 2)] = 4\n",
        "cost[(4, 5)] = 3\n",
        "cost[(5, 2)] = 6\n",
        "cost[(5, 6)] = 3\n",
        "cost[(6, 4)] = 7\n",
        "\n",
        "  # goal state\n",
        "goal = []\n",
        "\n",
        "  # set the goal\n",
        "  # there can be multiple goal states\n",
        "goal.append(6)\n",
        "\n",
        "  # get the answer\n",
        "answer = uniform_cost_search(goal, 0)\n",
        "\n",
        "  # print the answer\n",
        "print(\"Minimum cost from 0 to 6 is = \",answer[0])"
      ]
    },
    {
      "cell_type": "markdown",
      "metadata": {
        "id": "yLrHP57ppZs4"
      },
      "source": []
    }
  ],
  "metadata": {
    "colab": {
      "provenance": []
    },
    "kernelspec": {
      "display_name": "Python 3",
      "name": "python3"
    },
    "language_info": {
      "name": "python"
    }
  },
  "nbformat": 4,
  "nbformat_minor": 0
}
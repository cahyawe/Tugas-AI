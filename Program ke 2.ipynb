{
  "nbformat": 4,
  "nbformat_minor": 0,
  "metadata": {
    "colab": {
      "provenance": []
    },
    "kernelspec": {
      "name": "python3",
      "display_name": "Python 3"
    },
    "language_info": {
      "name": "python"
    }
  },
  "cells": [
    {
      "cell_type": "markdown",
      "source": [],
      "metadata": {
        "id": "dVl7jih0a4Ua"
      }
    },
    {
      "cell_type": "markdown",
      "source": [
        "Nama : Yunus sawaludin\n",
        "Nim : 2106036"
      ],
      "metadata": {
        "id": "j3YJpvwba74E"
      }
    },
    {
      "cell_type": "code",
      "source": [],
      "metadata": {
        "id": "g9MXA6oMkcW0"
      },
      "execution_count": null,
      "outputs": []
    },
    {
      "cell_type": "code",
      "source": [
        "# Python program to print DFS traversal from a given\n",
        "# given graph\n",
        "from collections import defaultdict\n",
        "# This class represents a directed graph using adjacency\n",
        "# list representation\n",
        "class Graph:\n",
        "  def __init__ (self,vertices):\n",
        "     # No. of vertices\n",
        "     self.V = vertices\n",
        "     # default dictionary to store graph\n",
        "     self.graph = defaultdict(list)\n",
        " # function to add an edge to graph\n",
        "def addEdge(self,u,v):\n",
        "   self.graph[u].append(v)  \n",
        "# A function to perform a Depth-Limited search\n",
        "# from given source 'src\n",
        "def DLS(self,src,target,maxDepth):\n",
        "   if src == target : return True\n",
        "   # If reached the maximum depth, stop recursing.\n",
        "   if maxDepth <= 0 : return False\n",
        "   # Recur for all the vertices adjacent to this vertex\n",
        "   for i in self.graph[src]:\n",
        "       if(self.DLS(i,target,maxDepth-1)):\n",
        "         return True\n",
        "   return False\n",
        "# IDDFS to search if target is reachable from v.\n",
        "# It uses recursive DLS()\n",
        "def IDDFS(self,src, target, maxDepth):\n",
        "  # Repeatedly depth-limit search till the\n",
        "  # maximum depth\n",
        "  for i in range(maxDepth):\n",
        "    if (self.DLS(src, target, 1)):\n",
        "     return True\n",
        "  return False\n",
        "  # Create a graph given in the above diagram\n",
        "  g = Graph (7);\n",
        "  g.addEdge(0, 1)\n",
        "  g.addEdge(0, 2)\n",
        "  g.addEdge(0, 4)\n",
        "  g.addEdge(1, 3)\n",
        "  g.addEdge(1, 5)\n",
        "  g.addEdge(2, 6)\n",
        "  target = 6; maxDepth = 3; src = 0\n",
        "  if g.IDDFS(src, target, maxDepth) == True:\n",
        "     print (\"Target is reachable from source \" +\n",
        "       \"within max depth\")\n",
        "  else :\n",
        "    print (\"Target is NOT reachable from source \" +\n",
        "    \"within max depth\")\n",
        "\n",
        "\n"
      ],
      "metadata": {
        "id": "oAusd_jXbB_s"
      },
      "execution_count": 71,
      "outputs": []
    }
  ]
}